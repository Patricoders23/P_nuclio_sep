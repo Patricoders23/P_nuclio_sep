{
 "cells": [
  {
   "cell_type": "markdown",
   "metadata": {},
   "source": [
    "![Texto Alternativo](./colecciones.png)"
   ]
  },
  {
   "cell_type": "markdown",
   "metadata": {},
   "source": [
    "# 1. LISTAS\n",
    "\n",
    "Son colecciones ordenadas de datos que pueden contener cualquier tipo de datos, ej: números, cadenas, objetos, booleanos,  etc."
   ]
  },
  {
   "cell_type": "code",
   "execution_count": 212,
   "metadata": {},
   "outputs": [],
   "source": [
    "lista = ['hola', 'pythonistas', True, 37, -1]"
   ]
  },
  {
   "cell_type": "code",
   "execution_count": 213,
   "metadata": {},
   "outputs": [
    {
     "data": {
      "text/plain": [
       "['hola', 'pythonistas', True, 37, -1]"
      ]
     },
     "execution_count": 213,
     "metadata": {},
     "output_type": "execute_result"
    }
   ],
   "source": [
    "lista"
   ]
  },
  {
   "cell_type": "code",
   "execution_count": 214,
   "metadata": {},
   "outputs": [
    {
     "data": {
      "text/plain": [
       "list"
      ]
     },
     "execution_count": 214,
     "metadata": {},
     "output_type": "execute_result"
    }
   ],
   "source": [
    "type(lista)"
   ]
  },
  {
   "cell_type": "markdown",
   "metadata": {},
   "source": [
    "### Accede a los elementos de una lista usando índices:"
   ]
  },
  {
   "cell_type": "code",
   "execution_count": 215,
   "metadata": {},
   "outputs": [
    {
     "name": "stdout",
     "output_type": "stream",
     "text": [
      "hola\n",
      "pythonistas\n",
      "True\n",
      "37\n",
      "-1\n"
     ]
    }
   ],
   "source": [
    "#Elementos de una lista usando índices:\n",
    "print(lista[0])\n",
    "print(lista[1])\n",
    "print(lista[2])\n",
    "print(lista[3])\n",
    "print(lista[4])"
   ]
  },
  {
   "cell_type": "code",
   "execution_count": 216,
   "metadata": {},
   "outputs": [
    {
     "name": "stdout",
     "output_type": "stream",
     "text": [
      "-1\n",
      "37\n",
      "True\n",
      "pythonistas\n",
      "hola\n"
     ]
    }
   ],
   "source": [
    "# También se puede acceder a los elementos:\n",
    "print(lista[-1])\n",
    "print(lista[-2])\n",
    "print(lista[-3])\n",
    "print(lista[-4])\n",
    "print(lista[-5])"
   ]
  },
  {
   "cell_type": "markdown",
   "metadata": {},
   "source": [
    "### Modifica los elementos de una lista usando índices"
   ]
  },
  {
   "cell_type": "code",
   "execution_count": 217,
   "metadata": {},
   "outputs": [
    {
     "name": "stdout",
     "output_type": "stream",
     "text": [
      "['Hi', 'python', True, 37, -1]\n"
     ]
    }
   ],
   "source": [
    "lista[0] = 'Hi'\n",
    "lista[1] = 'python'\n",
    "print(lista)"
   ]
  },
  {
   "cell_type": "markdown",
   "metadata": {},
   "source": [
    "### Rango de índices "
   ]
  },
  {
   "cell_type": "code",
   "execution_count": 218,
   "metadata": {},
   "outputs": [
    {
     "data": {
      "text/plain": [
       "['Hi', 'python', True]"
      ]
     },
     "execution_count": 218,
     "metadata": {},
     "output_type": "execute_result"
    }
   ],
   "source": [
    "lista[0:3] "
   ]
  },
  {
   "cell_type": "markdown",
   "metadata": {},
   "source": [
    "### Cambio de valores "
   ]
  },
  {
   "cell_type": "code",
   "execution_count": 219,
   "metadata": {},
   "outputs": [
    {
     "data": {
      "text/plain": [
       "['Hi', 'python', -100, 37, -1]"
      ]
     },
     "execution_count": 219,
     "metadata": {},
     "output_type": "execute_result"
    }
   ],
   "source": [
    "lista[2] = -100\n",
    "lista"
   ]
  },
  {
   "cell_type": "code",
   "execution_count": 220,
   "metadata": {},
   "outputs": [
    {
     "data": {
      "text/plain": [
       "['Hi', 'python', -100, 37, -1]"
      ]
     },
     "execution_count": 220,
     "metadata": {},
     "output_type": "execute_result"
    }
   ],
   "source": [
    "lista.sort\n",
    "lista"
   ]
  },
  {
   "cell_type": "markdown",
   "metadata": {},
   "source": [
    "![Texto Alternativo](./metodos_listas.png)"
   ]
  },
  {
   "cell_type": "code",
   "execution_count": 221,
   "metadata": {},
   "outputs": [
    {
     "name": "stdout",
     "output_type": "stream",
     "text": [
      "['Hi', 'python', -100, 37, -1, 10, 'code', 10]\n"
     ]
    }
   ],
   "source": [
    "lista.append(10)\n",
    "lista.append('code')\n",
    "lista.append(10)\n",
    "print(lista)"
   ]
  },
  {
   "cell_type": "code",
   "execution_count": 222,
   "metadata": {},
   "outputs": [
    {
     "data": {
      "text/plain": [
       "['hola', 'Hi', 'python', -100, 37, -1, 10, 'code', 10]"
      ]
     },
     "execution_count": 222,
     "metadata": {},
     "output_type": "execute_result"
    }
   ],
   "source": [
    "lista.insert(0, 'hola')\n",
    "lista"
   ]
  },
  {
   "cell_type": "code",
   "execution_count": 223,
   "metadata": {},
   "outputs": [
    {
     "name": "stdout",
     "output_type": "stream",
     "text": [
      "['hola', 'Hi', 'python', -100, 37, -1, 10, 'code', 10, 'otra', 'lista', 11, 12]\n"
     ]
    }
   ],
   "source": [
    "lista1 = ['otra', 'lista', 11, 12]\n",
    "lista.extend(lista1)\n",
    "print(lista)"
   ]
  },
  {
   "cell_type": "code",
   "execution_count": 224,
   "metadata": {},
   "outputs": [
    {
     "name": "stdout",
     "output_type": "stream",
     "text": [
      "['hola', 'Hi', 'python', -100, 37, -1, 10, 'code', 10, 'otra', 'lista', 11]\n",
      "['hola', 'python', -100, -1, 10, 'code', 10, 'otra', 'lista', 11]\n"
     ]
    }
   ],
   "source": [
    "lista.pop() #Elimina el ultimo elemento\n",
    "print(lista)\n",
    "\n",
    "lista.remove('Hi')\n",
    "lista.remove(37)\n",
    "print(lista)"
   ]
  },
  {
   "cell_type": "code",
   "execution_count": 225,
   "metadata": {},
   "outputs": [
    {
     "name": "stdout",
     "output_type": "stream",
     "text": [
      "9\n",
      "2\n",
      "0\n"
     ]
    }
   ],
   "source": [
    "print(lista.index(11)) #El número 11 está en la posición 9 \n",
    "print(lista.index(-100)) #El número -100 está en la posición 2\n",
    "print(lista.index('hola')) #'hola' esta en la posición 0"
   ]
  },
  {
   "cell_type": "code",
   "execution_count": 226,
   "metadata": {},
   "outputs": [
    {
     "name": "stdout",
     "output_type": "stream",
     "text": [
      "2\n"
     ]
    }
   ],
   "source": [
    "print(lista.count(10)) # El número 10 está 2 veces en la lista "
   ]
  },
  {
   "cell_type": "code",
   "execution_count": 227,
   "metadata": {},
   "outputs": [
    {
     "name": "stdout",
     "output_type": "stream",
     "text": [
      "[-2, 0, 2, 5, 10, 45, 18940]\n"
     ]
    }
   ],
   "source": [
    "lista2 = [2, 5, 10, -2, 0, 45, 18940]\n",
    "lista2.sort() #Ordena solo números \n",
    "print(lista2)"
   ]
  },
  {
   "cell_type": "code",
   "execution_count": 228,
   "metadata": {},
   "outputs": [
    {
     "name": "stdout",
     "output_type": "stream",
     "text": [
      "[18940, 45, 10, 5, 2, 0, -2]\n"
     ]
    }
   ],
   "source": [
    "lista2.reverse()#Ordena los números de la lista de mayor a menor \n",
    "print(lista2)"
   ]
  },
  {
   "cell_type": "code",
   "execution_count": 229,
   "metadata": {},
   "outputs": [
    {
     "name": "stdout",
     "output_type": "stream",
     "text": [
      "[]\n"
     ]
    }
   ],
   "source": [
    "lista2.clear() #Elimina todos los elementos\n",
    "print(lista2)"
   ]
  },
  {
   "cell_type": "markdown",
   "metadata": {},
   "source": [
    "# 2. TUPLAS\n",
    "\n",
    "- Al contrario de las listas, las Tuplas NO se pueden modificar(inmutables), son ordenados y se escriben con paréntesis. "
   ]
  },
  {
   "cell_type": "code",
   "execution_count": 230,
   "metadata": {},
   "outputs": [
    {
     "data": {
      "text/plain": [
       "('modelos', 'machine', 'learning', 10, 6, -12, 'machine')"
      ]
     },
     "execution_count": 230,
     "metadata": {},
     "output_type": "execute_result"
    }
   ],
   "source": [
    "tupla = ('modelos', 'machine', 'learning', 10, 6, -12, 'machine')\n",
    "tupla"
   ]
  },
  {
   "cell_type": "code",
   "execution_count": 231,
   "metadata": {},
   "outputs": [
    {
     "name": "stdout",
     "output_type": "stream",
     "text": [
      "({'raza': 'labrador', 'tamaño': 'grande'}, {'raza': 'chihuahua', 'tamaño': 'pequeño'})\n"
     ]
    }
   ],
   "source": [
    "# Tupla de objetos\n",
    "tupla_perros = ({\"raza\": \"labrador\", \"tamaño\": \"grande\"}, {\"raza\": \"chihuahua\", \"tamaño\": \"pequeño\"})\n",
    "print(tupla_perros)"
   ]
  },
  {
   "cell_type": "markdown",
   "metadata": {},
   "source": [
    "### Acceder a elementos de la tupla "
   ]
  },
  {
   "cell_type": "code",
   "execution_count": 232,
   "metadata": {},
   "outputs": [
    {
     "name": "stdout",
     "output_type": "stream",
     "text": [
      "modelos\n",
      "{'raza': 'chihuahua', 'tamaño': 'pequeño'}\n"
     ]
    }
   ],
   "source": [
    "print(tupla[0]) \n",
    "print(tupla_perros[1])"
   ]
  },
  {
   "cell_type": "markdown",
   "metadata": {},
   "source": [
    "### Rando de indexado"
   ]
  },
  {
   "cell_type": "code",
   "execution_count": 233,
   "metadata": {},
   "outputs": [
    {
     "name": "stdout",
     "output_type": "stream",
     "text": [
      "('modelos', 'machine', 'learning', 10, 6, -12)\n",
      "({'raza': 'labrador', 'tamaño': 'grande'},)\n"
     ]
    }
   ],
   "source": [
    "print(tupla[0:6]) #El primer item es el 0.\n",
    "print(tupla_perros[:1])"
   ]
  },
  {
   "cell_type": "markdown",
   "metadata": {},
   "source": [
    "![Texto Alternativo](./metodos_tuplas.png)"
   ]
  },
  {
   "cell_type": "code",
   "execution_count": 234,
   "metadata": {},
   "outputs": [
    {
     "name": "stdout",
     "output_type": "stream",
     "text": [
      "7\n",
      "2\n"
     ]
    }
   ],
   "source": [
    "print(len(tupla))\n",
    "print(len(tupla_perros))"
   ]
  },
  {
   "cell_type": "code",
   "execution_count": 235,
   "metadata": {},
   "outputs": [
    {
     "name": "stdout",
     "output_type": "stream",
     "text": [
      "2\n"
     ]
    }
   ],
   "source": [
    "print(tupla.count('machine')) "
   ]
  },
  {
   "cell_type": "code",
   "execution_count": 240,
   "metadata": {},
   "outputs": [
    {
     "name": "stdout",
     "output_type": "stream",
     "text": [
      "2\n",
      "grande\n"
     ]
    }
   ],
   "source": [
    "print(tupla.index(\"learning\"))\n",
    "print(tupla_perros[0][\"tamaño\"]) # En tupla de objetos no funciona 'index'."
   ]
  },
  {
   "cell_type": "code",
   "execution_count": 246,
   "metadata": {},
   "outputs": [
    {
     "name": "stdout",
     "output_type": "stream",
     "text": [
      "3\n"
     ]
    }
   ],
   "source": [
    "tupla_num = ( 3, 5.1, 20742, 493043, 73) # solo en tuplas de int o float\n",
    "print(min(tupla_num))"
   ]
  },
  {
   "cell_type": "code",
   "execution_count": 247,
   "metadata": {},
   "outputs": [
    {
     "name": "stdout",
     "output_type": "stream",
     "text": [
      "493043\n"
     ]
    }
   ],
   "source": [
    "print(max(tupla_num)) # solo en tuplas de int o float"
   ]
  },
  {
   "cell_type": "code",
   "execution_count": 249,
   "metadata": {},
   "outputs": [
    {
     "name": "stdout",
     "output_type": "stream",
     "text": [
      "[3, 5.1, 73, 20742, 493043]\n"
     ]
    }
   ],
   "source": [
    "print(sorted(tupla_num)) #Ordena tuplas de int y float, o string. Pero no ordena cuando estan int y string."
   ]
  },
  {
   "cell_type": "code",
   "execution_count": 250,
   "metadata": {},
   "outputs": [
    {
     "name": "stdout",
     "output_type": "stream",
     "text": [
      "<reversed object at 0x10a0ddb70>\n"
     ]
    }
   ],
   "source": [
    "print(reversed(tupla_num))"
   ]
  },
  {
   "cell_type": "code",
   "execution_count": 251,
   "metadata": {},
   "outputs": [
    {
     "name": "stdout",
     "output_type": "stream",
     "text": [
      "('hola', 'python', -100, -1, 10, 'code', 10, 'otra', 'lista', 11)\n"
     ]
    }
   ],
   "source": [
    "print(tuple(lista)) # A mi lista la convierte en tupla"
   ]
  }
 ],
 "metadata": {
  "kernelspec": {
   "display_name": "base",
   "language": "python",
   "name": "python3"
  },
  "language_info": {
   "codemirror_mode": {
    "name": "ipython",
    "version": 3
   },
   "file_extension": ".py",
   "mimetype": "text/x-python",
   "name": "python",
   "nbconvert_exporter": "python",
   "pygments_lexer": "ipython3",
   "version": "3.11.4"
  },
  "orig_nbformat": 4
 },
 "nbformat": 4,
 "nbformat_minor": 2
}
