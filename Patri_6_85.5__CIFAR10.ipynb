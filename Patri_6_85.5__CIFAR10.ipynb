{
  "nbformat": 4,
  "nbformat_minor": 0,
  "metadata": {
    "colab": {
      "provenance": []
    },
    "kernelspec": {
      "name": "python3",
      "display_name": "Python 3"
    },
    "language_info": {
      "name": "python"
    }
  },
  "cells": [
    {
      "cell_type": "code",
      "execution_count": 59,
      "metadata": {
        "id": "J13-rbIoTk8f"
      },
      "outputs": [],
      "source": [
        "import keras\n",
        "import numpy as np\n",
        "import time\n",
        "import datetime\n",
        "\n",
        "from keras.models import Sequential\n",
        "from sklearn.model_selection import train_test_split\n",
        "from keras.preprocessing.image import ImageDataGenerator\n",
        "from keras.layers import Dense, Activation, Flatten, Dropout, BatchNormalization\n",
        "from keras.layers import Conv2D, MaxPooling2D\n",
        "from keras.datasets import cifar10\n",
        "from keras import regularizers\n",
        "from keras.callbacks import LearningRateScheduler\n",
        "from keras.optimizers import RMSprop\n",
        "from keras.callbacks import EarlyStopping\n",
        "from keras.regularizers import l2\n",
        "\n",
        "\n",
        "from tensorflow import keras as ks\n",
        "from matplotlib import pyplot as plt"
      ]
    },
    {
      "cell_type": "code",
      "source": [
        "#Ajustamos la tasa de aprendizaje (learning rate) en función del valor de epoch\n",
        "def lr_schedule(epoch):\n",
        "    lrate = 0.001\n",
        "    if epoch > 75:\n",
        "        lrate = 0.0005\n",
        "    if epoch > 100:\n",
        "        lrate = 0.0003\n",
        "    return lrate"
      ],
      "metadata": {
        "id": "tb7pcn8KTpxx"
      },
      "execution_count": 60,
      "outputs": []
    },
    {
      "cell_type": "code",
      "source": [
        "(x_train, y_train), (x_test, y_test) = cifar10.load_data()\n",
        "\n",
        "#Convertimos el tipo de datos de las imágenes (entrenamiento^prueba) de enteros a números de punto flotante (float32).\n",
        "x_train = x_train.astype('float32')\n",
        "x_test = x_test.astype('float32')"
      ],
      "metadata": {
        "id": "ecPzaM3yTwg1"
      },
      "execution_count": 61,
      "outputs": []
    },
    {
      "cell_type": "markdown",
      "source": [
        "Para facilitar el entrenamiento de redes neuronales, calcula la media y la desviación estándar de los píxeles en el conjunto de entrenamiento y luego estandariza tanto los datos de entrenamiento como los de prueba para que tengan una distribución con media cero y desviación estándar uno."
      ],
      "metadata": {
        "id": "Nv20Z4mecSDu"
      }
    },
    {
      "cell_type": "code",
      "source": [
        "# Z-score\n",
        "mean = np.mean(x_train, axis=(0, 1, 2, 3))\n",
        "std = np.std(x_train, axis=(0, 1, 2, 3))\n",
        "x_train = (x_train - mean) / (std + 1e-7)\n",
        "x_test = (x_test - mean) / (std + 1e-7)"
      ],
      "metadata": {
        "id": "2bYfNlF0T2yG"
      },
      "execution_count": 62,
      "outputs": []
    },
    {
      "cell_type": "code",
      "source": [
        "#Codificación one-hot encoding, técnica utilizada clasificación multiclase\n",
        "\n",
        "num_classes = 10\n",
        "y_train = ks.utils.to_categorical(y_train, num_classes)\n",
        "y_test = ks.utils.to_categorical(y_test, num_classes)\n",
        "\n",
        "y_train\n",
        "y_test"
      ],
      "metadata": {
        "id": "RsMjrPPsT4FW",
        "colab": {
          "base_uri": "https://localhost:8080/"
        },
        "outputId": "5dc1916c-3774-43a3-9ccd-f91c25dffd35"
      },
      "execution_count": 63,
      "outputs": [
        {
          "output_type": "execute_result",
          "data": {
            "text/plain": [
              "array([[0., 0., 0., ..., 0., 0., 0.],\n",
              "       [0., 0., 0., ..., 0., 1., 0.],\n",
              "       [0., 0., 0., ..., 0., 1., 0.],\n",
              "       ...,\n",
              "       [0., 0., 0., ..., 0., 0., 0.],\n",
              "       [0., 1., 0., ..., 0., 0., 0.],\n",
              "       [0., 0., 0., ..., 1., 0., 0.]], dtype=float32)"
            ]
          },
          "metadata": {},
          "execution_count": 63
        }
      ]
    },
    {
      "cell_type": "code",
      "source": [
        "cifar10_labels = [\n",
        "'airplane', # id 0\n",
        "'automobile',\n",
        "'bird',\n",
        "'cat',\n",
        "'deer',\n",
        "'dog',\n",
        "'frog',\n",
        "'horse',\n",
        "'ship',\n",
        "'truck',\n",
        "]\n",
        "\n",
        "print('Number of labels: %s' % len(cifar10_labels))"
      ],
      "metadata": {
        "colab": {
          "base_uri": "https://localhost:8080/"
        },
        "id": "byl_GlNJd0jY",
        "outputId": "4539d85f-7197-4b63-95d0-6b715304a406"
      },
      "execution_count": 64,
      "outputs": [
        {
          "output_type": "stream",
          "name": "stdout",
          "text": [
            "Number of labels: 10\n"
          ]
        }
      ]
    },
    {
      "cell_type": "code",
      "source": [
        "print('Train: X=%s, y=%s' % (x_train.shape, y_train.shape))\n",
        "print('Test: X=%s, y=%s' % (x_test.shape, y_test.shape))\n"
      ],
      "metadata": {
        "colab": {
          "base_uri": "https://localhost:8080/"
        },
        "id": "flHyLCDae8kM",
        "outputId": "15972900-454a-44fa-87bb-00bdf8930d1b"
      },
      "execution_count": 65,
      "outputs": [
        {
          "output_type": "stream",
          "name": "stdout",
          "text": [
            "Train: X=(50000, 32, 32, 3), y=(50000, 10)\n",
            "Test: X=(10000, 32, 32, 3), y=(10000, 10)\n"
          ]
        }
      ]
    },
    {
      "cell_type": "code",
      "source": [
        "## Training and validation data division\n",
        "\n",
        "x_train, x_val, y_train, y_val = train_test_split(x_train, y_train, test_size=0.2, random_state=42)"
      ],
      "metadata": {
        "id": "ejldojVL2yVF"
      },
      "execution_count": 66,
      "outputs": []
    },
    {
      "cell_type": "code",
      "source": [],
      "metadata": {
        "id": "QUhqu5HX5EqY"
      },
      "execution_count": 66,
      "outputs": []
    },
    {
      "cell_type": "code",
      "source": [
        "# Definir el factor de regularización L2 deseado\n",
        "l2_reg = 1e-5\n",
        "\n",
        "model = Sequential()\n",
        "\n",
        "# Capas de convolución con diferentes filtros y tasas de dropout\n",
        "conv_architecture = [\n",
        "    (32, (3, 3), 0.2),\n",
        "    (32, (3, 3), 0.3),\n",
        "    (64, (3, 3), 0.3),\n",
        "    (64, (3, 3), 0.5),\n",
        "    (128, (3, 3), 0.7)\n",
        "]\n",
        "\n",
        "for filters, kernel_size, dropout_rate in conv_architecture:\n",
        "    # Aplicar regularización L2 en estas capas\n",
        "    model.add(Conv2D(filters, kernel_size, padding='same', kernel_regularizer=l2(l2_reg)))\n",
        "    model.add(Activation('elu'))\n",
        "    model.add(BatchNormalization())\n",
        "    model.add(Conv2D(filters, kernel_size, padding='same', kernel_regularizer=l2(l2_reg)))\n",
        "    model.add(Activation('elu'))\n",
        "    model.add(BatchNormalization())\n",
        "    model.add(MaxPooling2D(pool_size=(2, 2)))\n",
        "    model.add(Dropout(dropout_rate))\n",
        "\n",
        "model.add(Flatten())\n",
        "model.add(Dense(num_classes, activation='softmax'))\n"
      ],
      "metadata": {
        "id": "dGA0tOWJT6az"
      },
      "execution_count": 67,
      "outputs": []
    },
    {
      "cell_type": "code",
      "source": [
        "model.build(input_shape=(None, 32, 32, 3))"
      ],
      "metadata": {
        "id": "7pfCXb26CHR7"
      },
      "execution_count": 68,
      "outputs": []
    },
    {
      "cell_type": "code",
      "source": [
        "model.summary()"
      ],
      "metadata": {
        "colab": {
          "base_uri": "https://localhost:8080/"
        },
        "id": "fz5fJPOE-tJ0",
        "outputId": "4021647a-bc4d-4ee1-cec6-197897afe7f3"
      },
      "execution_count": 69,
      "outputs": [
        {
          "output_type": "stream",
          "name": "stdout",
          "text": [
            "Model: \"sequential_7\"\n",
            "_________________________________________________________________\n",
            " Layer (type)                Output Shape              Param #   \n",
            "=================================================================\n",
            " conv2d_70 (Conv2D)          (None, 32, 32, 32)        896       \n",
            "                                                                 \n",
            " activation_70 (Activation)  (None, 32, 32, 32)        0         \n",
            "                                                                 \n",
            " batch_normalization_70 (Ba  (None, 32, 32, 32)        128       \n",
            " tchNormalization)                                               \n",
            "                                                                 \n",
            " conv2d_71 (Conv2D)          (None, 32, 32, 32)        9248      \n",
            "                                                                 \n",
            " activation_71 (Activation)  (None, 32, 32, 32)        0         \n",
            "                                                                 \n",
            " batch_normalization_71 (Ba  (None, 32, 32, 32)        128       \n",
            " tchNormalization)                                               \n",
            "                                                                 \n",
            " max_pooling2d_35 (MaxPooli  (None, 16, 16, 32)        0         \n",
            " ng2D)                                                           \n",
            "                                                                 \n",
            " dropout_35 (Dropout)        (None, 16, 16, 32)        0         \n",
            "                                                                 \n",
            " conv2d_72 (Conv2D)          (None, 16, 16, 32)        9248      \n",
            "                                                                 \n",
            " activation_72 (Activation)  (None, 16, 16, 32)        0         \n",
            "                                                                 \n",
            " batch_normalization_72 (Ba  (None, 16, 16, 32)        128       \n",
            " tchNormalization)                                               \n",
            "                                                                 \n",
            " conv2d_73 (Conv2D)          (None, 16, 16, 32)        9248      \n",
            "                                                                 \n",
            " activation_73 (Activation)  (None, 16, 16, 32)        0         \n",
            "                                                                 \n",
            " batch_normalization_73 (Ba  (None, 16, 16, 32)        128       \n",
            " tchNormalization)                                               \n",
            "                                                                 \n",
            " max_pooling2d_36 (MaxPooli  (None, 8, 8, 32)          0         \n",
            " ng2D)                                                           \n",
            "                                                                 \n",
            " dropout_36 (Dropout)        (None, 8, 8, 32)          0         \n",
            "                                                                 \n",
            " conv2d_74 (Conv2D)          (None, 8, 8, 64)          18496     \n",
            "                                                                 \n",
            " activation_74 (Activation)  (None, 8, 8, 64)          0         \n",
            "                                                                 \n",
            " batch_normalization_74 (Ba  (None, 8, 8, 64)          256       \n",
            " tchNormalization)                                               \n",
            "                                                                 \n",
            " conv2d_75 (Conv2D)          (None, 8, 8, 64)          36928     \n",
            "                                                                 \n",
            " activation_75 (Activation)  (None, 8, 8, 64)          0         \n",
            "                                                                 \n",
            " batch_normalization_75 (Ba  (None, 8, 8, 64)          256       \n",
            " tchNormalization)                                               \n",
            "                                                                 \n",
            " max_pooling2d_37 (MaxPooli  (None, 4, 4, 64)          0         \n",
            " ng2D)                                                           \n",
            "                                                                 \n",
            " dropout_37 (Dropout)        (None, 4, 4, 64)          0         \n",
            "                                                                 \n",
            " conv2d_76 (Conv2D)          (None, 4, 4, 64)          36928     \n",
            "                                                                 \n",
            " activation_76 (Activation)  (None, 4, 4, 64)          0         \n",
            "                                                                 \n",
            " batch_normalization_76 (Ba  (None, 4, 4, 64)          256       \n",
            " tchNormalization)                                               \n",
            "                                                                 \n",
            " conv2d_77 (Conv2D)          (None, 4, 4, 64)          36928     \n",
            "                                                                 \n",
            " activation_77 (Activation)  (None, 4, 4, 64)          0         \n",
            "                                                                 \n",
            " batch_normalization_77 (Ba  (None, 4, 4, 64)          256       \n",
            " tchNormalization)                                               \n",
            "                                                                 \n",
            " max_pooling2d_38 (MaxPooli  (None, 2, 2, 64)          0         \n",
            " ng2D)                                                           \n",
            "                                                                 \n",
            " dropout_38 (Dropout)        (None, 2, 2, 64)          0         \n",
            "                                                                 \n",
            " conv2d_78 (Conv2D)          (None, 2, 2, 128)         73856     \n",
            "                                                                 \n",
            " activation_78 (Activation)  (None, 2, 2, 128)         0         \n",
            "                                                                 \n",
            " batch_normalization_78 (Ba  (None, 2, 2, 128)         512       \n",
            " tchNormalization)                                               \n",
            "                                                                 \n",
            " conv2d_79 (Conv2D)          (None, 2, 2, 128)         147584    \n",
            "                                                                 \n",
            " activation_79 (Activation)  (None, 2, 2, 128)         0         \n",
            "                                                                 \n",
            " batch_normalization_79 (Ba  (None, 2, 2, 128)         512       \n",
            " tchNormalization)                                               \n",
            "                                                                 \n",
            " max_pooling2d_39 (MaxPooli  (None, 1, 1, 128)         0         \n",
            " ng2D)                                                           \n",
            "                                                                 \n",
            " dropout_39 (Dropout)        (None, 1, 1, 128)         0         \n",
            "                                                                 \n",
            " flatten_7 (Flatten)         (None, 128)               0         \n",
            "                                                                 \n",
            " dense_7 (Dense)             (None, 10)                1290      \n",
            "                                                                 \n",
            "=================================================================\n",
            "Total params: 383210 (1.46 MB)\n",
            "Trainable params: 381930 (1.46 MB)\n",
            "Non-trainable params: 1280 (5.00 KB)\n",
            "_________________________________________________________________\n"
          ]
        }
      ]
    },
    {
      "cell_type": "code",
      "source": [
        "# Data augmentation\n",
        "datagen = ImageDataGenerator(\n",
        "    rotation_range=10,\n",
        "    width_shift_range=0.1,\n",
        "    height_shift_range=0.1,\n",
        "    horizontal_flip=True,\n",
        ")\n",
        "datagen.fit(x_train)"
      ],
      "metadata": {
        "id": "1OY9rp0JUGLa"
      },
      "execution_count": 70,
      "outputs": []
    },
    {
      "cell_type": "code",
      "source": [
        "# Agregar Early Stopping\n",
        "callback_loss = EarlyStopping(monitor='val_loss', patience=5, restore_best_weights=True, verbose=True)"
      ],
      "metadata": {
        "id": "3yIC67bA5emV"
      },
      "execution_count": 71,
      "outputs": []
    },
    {
      "cell_type": "code",
      "source": [
        "t = time.perf_counter()"
      ],
      "metadata": {
        "id": "PufwR0lXf53H"
      },
      "execution_count": 72,
      "outputs": []
    },
    {
      "cell_type": "code",
      "source": [
        "#Batch_size: el modelo procesará y actualizará los pesos basado en 64 ejemplos de entrenamiento.\n",
        "batch_size = 64\n",
        "\n",
        "# Optimizador\n",
        "opt_rms = RMSprop(learning_rate=0.001, rho=0.9)"
      ],
      "metadata": {
        "id": "Gm0S_aE0g1pt"
      },
      "execution_count": 73,
      "outputs": []
    },
    {
      "cell_type": "code",
      "source": [
        "#'categorical_crossentropy': se utiliza cuando las etiquetas de clase se han convertido previamente en codificación \"one-hot\"\n",
        "model.compile(\n",
        "    loss='categorical_crossentropy',\n",
        "    optimizer=opt_rms,\n",
        "    metrics=['accuracy'])"
      ],
      "metadata": {
        "id": "25zHYXwEhHie"
      },
      "execution_count": 74,
      "outputs": []
    },
    {
      "cell_type": "code",
      "source": [
        "history = model.fit(datagen.flow(x_train, y_train, batch_size=batch_size), \\\n",
        "                    steps_per_epoch=x_train.shape[0] // batch_size, epochs=100, \\\n",
        "                    verbose=1, validation_data=(x_test, y_test), callbacks=[LearningRateScheduler(lr_schedule)])"
      ],
      "metadata": {
        "colab": {
          "base_uri": "https://localhost:8080/"
        },
        "id": "xiLvXLZWUMgj",
        "outputId": "58390198-f4f1-4705-d7c3-798cb4611d1c"
      },
      "execution_count": 75,
      "outputs": [
        {
          "output_type": "stream",
          "name": "stdout",
          "text": [
            "Epoch 1/100\n",
            "625/625 [==============================] - 36s 47ms/step - loss: 2.2744 - accuracy: 0.3172 - val_loss: 2.3800 - val_accuracy: 0.3797 - lr: 0.0010\n",
            "Epoch 2/100\n",
            "625/625 [==============================] - 27s 44ms/step - loss: 1.5280 - accuracy: 0.4757 - val_loss: 1.2658 - val_accuracy: 0.5551 - lr: 0.0010\n",
            "Epoch 3/100\n",
            "625/625 [==============================] - 27s 44ms/step - loss: 1.3279 - accuracy: 0.5451 - val_loss: 1.1123 - val_accuracy: 0.6021 - lr: 0.0010\n",
            "Epoch 4/100\n",
            "625/625 [==============================] - 28s 44ms/step - loss: 1.2032 - accuracy: 0.5915 - val_loss: 1.0534 - val_accuracy: 0.6295 - lr: 0.0010\n",
            "Epoch 5/100\n",
            "625/625 [==============================] - 27s 44ms/step - loss: 1.1104 - accuracy: 0.6220 - val_loss: 0.9578 - val_accuracy: 0.6745 - lr: 0.0010\n",
            "Epoch 6/100\n",
            "625/625 [==============================] - 29s 46ms/step - loss: 1.0554 - accuracy: 0.6487 - val_loss: 0.9639 - val_accuracy: 0.6795 - lr: 0.0010\n",
            "Epoch 7/100\n",
            "625/625 [==============================] - 28s 45ms/step - loss: 1.0071 - accuracy: 0.6672 - val_loss: 0.8877 - val_accuracy: 0.7038 - lr: 0.0010\n",
            "Epoch 8/100\n",
            "625/625 [==============================] - 27s 44ms/step - loss: 0.9605 - accuracy: 0.6866 - val_loss: 0.9551 - val_accuracy: 0.6877 - lr: 0.0010\n",
            "Epoch 9/100\n",
            "625/625 [==============================] - 27s 43ms/step - loss: 0.9214 - accuracy: 0.7014 - val_loss: 0.9283 - val_accuracy: 0.7004 - lr: 0.0010\n",
            "Epoch 10/100\n",
            "625/625 [==============================] - 29s 46ms/step - loss: 0.8962 - accuracy: 0.7095 - val_loss: 0.7910 - val_accuracy: 0.7404 - lr: 0.0010\n",
            "Epoch 11/100\n",
            "625/625 [==============================] - 27s 44ms/step - loss: 0.8793 - accuracy: 0.7160 - val_loss: 0.7761 - val_accuracy: 0.7460 - lr: 0.0010\n",
            "Epoch 12/100\n",
            "625/625 [==============================] - 27s 44ms/step - loss: 0.8587 - accuracy: 0.7229 - val_loss: 0.7886 - val_accuracy: 0.7427 - lr: 0.0010\n",
            "Epoch 13/100\n",
            "625/625 [==============================] - 27s 44ms/step - loss: 0.8348 - accuracy: 0.7321 - val_loss: 0.7981 - val_accuracy: 0.7424 - lr: 0.0010\n",
            "Epoch 14/100\n",
            "625/625 [==============================] - 29s 46ms/step - loss: 0.8272 - accuracy: 0.7387 - val_loss: 0.7592 - val_accuracy: 0.7490 - lr: 0.0010\n",
            "Epoch 15/100\n",
            "625/625 [==============================] - 29s 47ms/step - loss: 0.8104 - accuracy: 0.7423 - val_loss: 0.7191 - val_accuracy: 0.7633 - lr: 0.0010\n",
            "Epoch 16/100\n",
            "625/625 [==============================] - 27s 43ms/step - loss: 0.7982 - accuracy: 0.7456 - val_loss: 0.6842 - val_accuracy: 0.7847 - lr: 0.0010\n",
            "Epoch 17/100\n",
            "625/625 [==============================] - 27s 43ms/step - loss: 0.7922 - accuracy: 0.7493 - val_loss: 0.6358 - val_accuracy: 0.7983 - lr: 0.0010\n",
            "Epoch 18/100\n",
            "625/625 [==============================] - 30s 47ms/step - loss: 0.7774 - accuracy: 0.7571 - val_loss: 0.6931 - val_accuracy: 0.7839 - lr: 0.0010\n",
            "Epoch 19/100\n",
            "625/625 [==============================] - 27s 43ms/step - loss: 0.7651 - accuracy: 0.7584 - val_loss: 0.7427 - val_accuracy: 0.7653 - lr: 0.0010\n",
            "Epoch 20/100\n",
            "625/625 [==============================] - 27s 44ms/step - loss: 0.7543 - accuracy: 0.7655 - val_loss: 0.7074 - val_accuracy: 0.7747 - lr: 0.0010\n",
            "Epoch 21/100\n",
            "625/625 [==============================] - 29s 46ms/step - loss: 0.7496 - accuracy: 0.7644 - val_loss: 0.6695 - val_accuracy: 0.7874 - lr: 0.0010\n",
            "Epoch 22/100\n",
            "625/625 [==============================] - 27s 44ms/step - loss: 0.7458 - accuracy: 0.7685 - val_loss: 0.6866 - val_accuracy: 0.7884 - lr: 0.0010\n",
            "Epoch 23/100\n",
            "625/625 [==============================] - 27s 44ms/step - loss: 0.7315 - accuracy: 0.7722 - val_loss: 0.6727 - val_accuracy: 0.7885 - lr: 0.0010\n",
            "Epoch 24/100\n",
            "625/625 [==============================] - 28s 44ms/step - loss: 0.7296 - accuracy: 0.7738 - val_loss: 0.6399 - val_accuracy: 0.7931 - lr: 0.0010\n",
            "Epoch 25/100\n",
            "625/625 [==============================] - 29s 46ms/step - loss: 0.7213 - accuracy: 0.7763 - val_loss: 0.6343 - val_accuracy: 0.8048 - lr: 0.0010\n",
            "Epoch 26/100\n",
            "625/625 [==============================] - 28s 45ms/step - loss: 0.7165 - accuracy: 0.7809 - val_loss: 0.6640 - val_accuracy: 0.7955 - lr: 0.0010\n",
            "Epoch 27/100\n",
            "625/625 [==============================] - 27s 44ms/step - loss: 0.7095 - accuracy: 0.7828 - val_loss: 0.6411 - val_accuracy: 0.8039 - lr: 0.0010\n",
            "Epoch 28/100\n",
            "625/625 [==============================] - 27s 44ms/step - loss: 0.7067 - accuracy: 0.7826 - val_loss: 0.6328 - val_accuracy: 0.8045 - lr: 0.0010\n",
            "Epoch 29/100\n",
            "625/625 [==============================] - 28s 45ms/step - loss: 0.7066 - accuracy: 0.7824 - val_loss: 0.6115 - val_accuracy: 0.8077 - lr: 0.0010\n",
            "Epoch 30/100\n",
            "625/625 [==============================] - 29s 47ms/step - loss: 0.6993 - accuracy: 0.7869 - val_loss: 0.6853 - val_accuracy: 0.7929 - lr: 0.0010\n",
            "Epoch 31/100\n",
            "625/625 [==============================] - 31s 49ms/step - loss: 0.6987 - accuracy: 0.7868 - val_loss: 0.6166 - val_accuracy: 0.8104 - lr: 0.0010\n",
            "Epoch 32/100\n",
            "625/625 [==============================] - 28s 44ms/step - loss: 0.6928 - accuracy: 0.7887 - val_loss: 0.6460 - val_accuracy: 0.8012 - lr: 0.0010\n",
            "Epoch 33/100\n",
            "625/625 [==============================] - 28s 44ms/step - loss: 0.6893 - accuracy: 0.7895 - val_loss: 0.6178 - val_accuracy: 0.8115 - lr: 0.0010\n",
            "Epoch 34/100\n",
            "625/625 [==============================] - 29s 46ms/step - loss: 0.6811 - accuracy: 0.7916 - val_loss: 0.6362 - val_accuracy: 0.8073 - lr: 0.0010\n",
            "Epoch 35/100\n",
            "625/625 [==============================] - 29s 46ms/step - loss: 0.6807 - accuracy: 0.7934 - val_loss: 0.6169 - val_accuracy: 0.8124 - lr: 0.0010\n",
            "Epoch 36/100\n",
            "625/625 [==============================] - 27s 44ms/step - loss: 0.6741 - accuracy: 0.7944 - val_loss: 0.6150 - val_accuracy: 0.8101 - lr: 0.0010\n",
            "Epoch 37/100\n",
            "625/625 [==============================] - 28s 45ms/step - loss: 0.6747 - accuracy: 0.7942 - val_loss: 0.6899 - val_accuracy: 0.7996 - lr: 0.0010\n",
            "Epoch 38/100\n",
            "625/625 [==============================] - 28s 45ms/step - loss: 0.6638 - accuracy: 0.7994 - val_loss: 0.7172 - val_accuracy: 0.7935 - lr: 0.0010\n",
            "Epoch 39/100\n",
            "625/625 [==============================] - 29s 46ms/step - loss: 0.6729 - accuracy: 0.7952 - val_loss: 0.6512 - val_accuracy: 0.8066 - lr: 0.0010\n",
            "Epoch 40/100\n",
            "625/625 [==============================] - 29s 46ms/step - loss: 0.6637 - accuracy: 0.7977 - val_loss: 0.6857 - val_accuracy: 0.7971 - lr: 0.0010\n",
            "Epoch 41/100\n",
            "625/625 [==============================] - 30s 49ms/step - loss: 0.6593 - accuracy: 0.8015 - val_loss: 0.6065 - val_accuracy: 0.8186 - lr: 0.0010\n",
            "Epoch 42/100\n",
            "625/625 [==============================] - 28s 45ms/step - loss: 0.6584 - accuracy: 0.8020 - val_loss: 0.7038 - val_accuracy: 0.7979 - lr: 0.0010\n",
            "Epoch 43/100\n",
            "625/625 [==============================] - 28s 44ms/step - loss: 0.6612 - accuracy: 0.8012 - val_loss: 0.6327 - val_accuracy: 0.8126 - lr: 0.0010\n",
            "Epoch 44/100\n",
            "625/625 [==============================] - 29s 47ms/step - loss: 0.6487 - accuracy: 0.8046 - val_loss: 0.6024 - val_accuracy: 0.8201 - lr: 0.0010\n",
            "Epoch 45/100\n",
            "625/625 [==============================] - 29s 46ms/step - loss: 0.6598 - accuracy: 0.8008 - val_loss: 0.6229 - val_accuracy: 0.8134 - lr: 0.0010\n",
            "Epoch 46/100\n",
            "625/625 [==============================] - 28s 45ms/step - loss: 0.6508 - accuracy: 0.8034 - val_loss: 0.5595 - val_accuracy: 0.8335 - lr: 0.0010\n",
            "Epoch 47/100\n",
            "625/625 [==============================] - 28s 45ms/step - loss: 0.6431 - accuracy: 0.8078 - val_loss: 0.5911 - val_accuracy: 0.8208 - lr: 0.0010\n",
            "Epoch 48/100\n",
            "625/625 [==============================] - 31s 50ms/step - loss: 0.6463 - accuracy: 0.8076 - val_loss: 0.5746 - val_accuracy: 0.8250 - lr: 0.0010\n",
            "Epoch 49/100\n",
            "625/625 [==============================] - 29s 47ms/step - loss: 0.6419 - accuracy: 0.8094 - val_loss: 0.6262 - val_accuracy: 0.8162 - lr: 0.0010\n",
            "Epoch 50/100\n",
            "625/625 [==============================] - 29s 47ms/step - loss: 0.6479 - accuracy: 0.8068 - val_loss: 0.6388 - val_accuracy: 0.8117 - lr: 0.0010\n",
            "Epoch 51/100\n",
            "625/625 [==============================] - 31s 50ms/step - loss: 0.6406 - accuracy: 0.8087 - val_loss: 0.5833 - val_accuracy: 0.8271 - lr: 0.0010\n",
            "Epoch 52/100\n",
            "625/625 [==============================] - 30s 48ms/step - loss: 0.6358 - accuracy: 0.8115 - val_loss: 0.6291 - val_accuracy: 0.8155 - lr: 0.0010\n",
            "Epoch 53/100\n",
            "625/625 [==============================] - 29s 46ms/step - loss: 0.6407 - accuracy: 0.8120 - val_loss: 0.5841 - val_accuracy: 0.8297 - lr: 0.0010\n",
            "Epoch 54/100\n",
            "625/625 [==============================] - 29s 47ms/step - loss: 0.6385 - accuracy: 0.8104 - val_loss: 0.5707 - val_accuracy: 0.8333 - lr: 0.0010\n",
            "Epoch 55/100\n",
            "625/625 [==============================] - 29s 46ms/step - loss: 0.6285 - accuracy: 0.8167 - val_loss: 0.6120 - val_accuracy: 0.8194 - lr: 0.0010\n",
            "Epoch 56/100\n",
            "625/625 [==============================] - 31s 49ms/step - loss: 0.6400 - accuracy: 0.8101 - val_loss: 0.5856 - val_accuracy: 0.8241 - lr: 0.0010\n",
            "Epoch 57/100\n",
            "625/625 [==============================] - 29s 47ms/step - loss: 0.6284 - accuracy: 0.8146 - val_loss: 0.6129 - val_accuracy: 0.8227 - lr: 0.0010\n",
            "Epoch 58/100\n",
            "625/625 [==============================] - 28s 46ms/step - loss: 0.6304 - accuracy: 0.8143 - val_loss: 0.6064 - val_accuracy: 0.8247 - lr: 0.0010\n",
            "Epoch 59/100\n",
            "625/625 [==============================] - 29s 46ms/step - loss: 0.6284 - accuracy: 0.8149 - val_loss: 0.6094 - val_accuracy: 0.8210 - lr: 0.0010\n",
            "Epoch 60/100\n",
            "625/625 [==============================] - 29s 47ms/step - loss: 0.6303 - accuracy: 0.8155 - val_loss: 0.5928 - val_accuracy: 0.8234 - lr: 0.0010\n",
            "Epoch 61/100\n",
            "625/625 [==============================] - 30s 48ms/step - loss: 0.6229 - accuracy: 0.8165 - val_loss: 0.5670 - val_accuracy: 0.8346 - lr: 0.0010\n",
            "Epoch 62/100\n",
            "625/625 [==============================] - 29s 47ms/step - loss: 0.6268 - accuracy: 0.8147 - val_loss: 0.5915 - val_accuracy: 0.8275 - lr: 0.0010\n",
            "Epoch 63/100\n",
            "625/625 [==============================] - 30s 48ms/step - loss: 0.6309 - accuracy: 0.8145 - val_loss: 0.6151 - val_accuracy: 0.8225 - lr: 0.0010\n",
            "Epoch 64/100\n",
            "625/625 [==============================] - 28s 45ms/step - loss: 0.6204 - accuracy: 0.8172 - val_loss: 0.6652 - val_accuracy: 0.8077 - lr: 0.0010\n",
            "Epoch 65/100\n",
            "625/625 [==============================] - 30s 47ms/step - loss: 0.6268 - accuracy: 0.8166 - val_loss: 0.5673 - val_accuracy: 0.8325 - lr: 0.0010\n",
            "Epoch 66/100\n",
            "625/625 [==============================] - 30s 48ms/step - loss: 0.6172 - accuracy: 0.8208 - val_loss: 0.6011 - val_accuracy: 0.8254 - lr: 0.0010\n",
            "Epoch 67/100\n",
            "625/625 [==============================] - 28s 45ms/step - loss: 0.6182 - accuracy: 0.8171 - val_loss: 0.5837 - val_accuracy: 0.8330 - lr: 0.0010\n",
            "Epoch 68/100\n",
            "625/625 [==============================] - 29s 46ms/step - loss: 0.6171 - accuracy: 0.8195 - val_loss: 0.6228 - val_accuracy: 0.8219 - lr: 0.0010\n",
            "Epoch 69/100\n",
            "625/625 [==============================] - 30s 48ms/step - loss: 0.6114 - accuracy: 0.8211 - val_loss: 0.5738 - val_accuracy: 0.8314 - lr: 0.0010\n",
            "Epoch 70/100\n",
            "625/625 [==============================] - 30s 47ms/step - loss: 0.6126 - accuracy: 0.8217 - val_loss: 0.5592 - val_accuracy: 0.8403 - lr: 0.0010\n",
            "Epoch 71/100\n",
            "625/625 [==============================] - 29s 46ms/step - loss: 0.6138 - accuracy: 0.8207 - val_loss: 0.5467 - val_accuracy: 0.8437 - lr: 0.0010\n",
            "Epoch 72/100\n",
            "625/625 [==============================] - 30s 48ms/step - loss: 0.6158 - accuracy: 0.8208 - val_loss: 0.6196 - val_accuracy: 0.8208 - lr: 0.0010\n",
            "Epoch 73/100\n",
            "625/625 [==============================] - 29s 46ms/step - loss: 0.6137 - accuracy: 0.8241 - val_loss: 0.5514 - val_accuracy: 0.8406 - lr: 0.0010\n",
            "Epoch 74/100\n",
            "625/625 [==============================] - 29s 46ms/step - loss: 0.6188 - accuracy: 0.8217 - val_loss: 0.5531 - val_accuracy: 0.8387 - lr: 0.0010\n",
            "Epoch 75/100\n",
            "625/625 [==============================] - 30s 48ms/step - loss: 0.6125 - accuracy: 0.8226 - val_loss: 0.5927 - val_accuracy: 0.8312 - lr: 0.0010\n",
            "Epoch 76/100\n",
            "625/625 [==============================] - 29s 46ms/step - loss: 0.6108 - accuracy: 0.8235 - val_loss: 0.5500 - val_accuracy: 0.8403 - lr: 0.0010\n",
            "Epoch 77/100\n",
            "625/625 [==============================] - 28s 45ms/step - loss: 0.5825 - accuracy: 0.8326 - val_loss: 0.6237 - val_accuracy: 0.8247 - lr: 5.0000e-04\n",
            "Epoch 78/100\n",
            "625/625 [==============================] - 30s 48ms/step - loss: 0.5751 - accuracy: 0.8344 - val_loss: 0.5503 - val_accuracy: 0.8420 - lr: 5.0000e-04\n",
            "Epoch 79/100\n",
            "625/625 [==============================] - 30s 48ms/step - loss: 0.5706 - accuracy: 0.8372 - val_loss: 0.5461 - val_accuracy: 0.8414 - lr: 5.0000e-04\n",
            "Epoch 80/100\n",
            "625/625 [==============================] - 29s 46ms/step - loss: 0.5635 - accuracy: 0.8379 - val_loss: 0.5487 - val_accuracy: 0.8432 - lr: 5.0000e-04\n",
            "Epoch 81/100\n",
            "625/625 [==============================] - 29s 46ms/step - loss: 0.5586 - accuracy: 0.8375 - val_loss: 0.5213 - val_accuracy: 0.8527 - lr: 5.0000e-04\n",
            "Epoch 82/100\n",
            "625/625 [==============================] - 29s 46ms/step - loss: 0.5634 - accuracy: 0.8391 - val_loss: 0.5354 - val_accuracy: 0.8474 - lr: 5.0000e-04\n",
            "Epoch 83/100\n",
            "625/625 [==============================] - 30s 48ms/step - loss: 0.5549 - accuracy: 0.8406 - val_loss: 0.5212 - val_accuracy: 0.8498 - lr: 5.0000e-04\n",
            "Epoch 84/100\n",
            "625/625 [==============================] - 31s 49ms/step - loss: 0.5593 - accuracy: 0.8395 - val_loss: 0.5806 - val_accuracy: 0.8343 - lr: 5.0000e-04\n",
            "Epoch 85/100\n",
            "625/625 [==============================] - 29s 46ms/step - loss: 0.5591 - accuracy: 0.8407 - val_loss: 0.5168 - val_accuracy: 0.8525 - lr: 5.0000e-04\n",
            "Epoch 86/100\n",
            "625/625 [==============================] - 29s 46ms/step - loss: 0.5547 - accuracy: 0.8396 - val_loss: 0.5161 - val_accuracy: 0.8527 - lr: 5.0000e-04\n",
            "Epoch 87/100\n",
            "625/625 [==============================] - 31s 49ms/step - loss: 0.5599 - accuracy: 0.8377 - val_loss: 0.5303 - val_accuracy: 0.8471 - lr: 5.0000e-04\n",
            "Epoch 88/100\n",
            "625/625 [==============================] - 29s 46ms/step - loss: 0.5588 - accuracy: 0.8407 - val_loss: 0.5228 - val_accuracy: 0.8486 - lr: 5.0000e-04\n",
            "Epoch 89/100\n",
            "625/625 [==============================] - 29s 46ms/step - loss: 0.5530 - accuracy: 0.8403 - val_loss: 0.5034 - val_accuracy: 0.8539 - lr: 5.0000e-04\n",
            "Epoch 90/100\n",
            "625/625 [==============================] - 30s 48ms/step - loss: 0.5507 - accuracy: 0.8442 - val_loss: 0.5314 - val_accuracy: 0.8480 - lr: 5.0000e-04\n",
            "Epoch 91/100\n",
            "625/625 [==============================] - 29s 46ms/step - loss: 0.5522 - accuracy: 0.8407 - val_loss: 0.5328 - val_accuracy: 0.8450 - lr: 5.0000e-04\n",
            "Epoch 92/100\n",
            "625/625 [==============================] - 30s 48ms/step - loss: 0.5529 - accuracy: 0.8388 - val_loss: 0.5076 - val_accuracy: 0.8536 - lr: 5.0000e-04\n",
            "Epoch 93/100\n",
            "625/625 [==============================] - 29s 46ms/step - loss: 0.5449 - accuracy: 0.8435 - val_loss: 0.5318 - val_accuracy: 0.8473 - lr: 5.0000e-04\n",
            "Epoch 94/100\n",
            "625/625 [==============================] - 29s 46ms/step - loss: 0.5506 - accuracy: 0.8428 - val_loss: 0.5067 - val_accuracy: 0.8558 - lr: 5.0000e-04\n",
            "Epoch 95/100\n",
            "625/625 [==============================] - 29s 46ms/step - loss: 0.5471 - accuracy: 0.8435 - val_loss: 0.5236 - val_accuracy: 0.8521 - lr: 5.0000e-04\n",
            "Epoch 96/100\n",
            "625/625 [==============================] - 30s 48ms/step - loss: 0.5454 - accuracy: 0.8441 - val_loss: 0.5253 - val_accuracy: 0.8479 - lr: 5.0000e-04\n",
            "Epoch 97/100\n",
            "625/625 [==============================] - 30s 48ms/step - loss: 0.5494 - accuracy: 0.8398 - val_loss: 0.5154 - val_accuracy: 0.8501 - lr: 5.0000e-04\n",
            "Epoch 98/100\n",
            "625/625 [==============================] - 29s 47ms/step - loss: 0.5458 - accuracy: 0.8421 - val_loss: 0.5197 - val_accuracy: 0.8506 - lr: 5.0000e-04\n",
            "Epoch 99/100\n",
            "625/625 [==============================] - 29s 46ms/step - loss: 0.5487 - accuracy: 0.8425 - val_loss: 0.5242 - val_accuracy: 0.8505 - lr: 5.0000e-04\n",
            "Epoch 100/100\n",
            "625/625 [==============================] - 31s 49ms/step - loss: 0.5455 - accuracy: 0.8431 - val_loss: 0.5101 - val_accuracy: 0.8552 - lr: 5.0000e-04\n"
          ]
        }
      ]
    },
    {
      "cell_type": "code",
      "source": [
        "# Evalúa el modelo en el conjunto de prueba con etiquetas en formato de valores enteros\n",
        "test_loss, test_accuracy = model.evaluate(x_test, y_test)\n",
        "\n",
        "# Imprime los resultados\n",
        "test_loss_percentage = test_loss * 100\n",
        "test_accuracy_percentage = test_accuracy * 100\n",
        "\n",
        "print(\"Pérdida en el conjunto de prueba: {:.3f}\".format(test_loss_percentage))\n",
        "print(\"Precisión en el conjunto de prueba: {:.2f}%\".format(test_accuracy_percentage))"
      ],
      "metadata": {
        "colab": {
          "base_uri": "https://localhost:8080/"
        },
        "id": "ky54w9K04xmW",
        "outputId": "2386b103-6449-4d07-fd65-a49423a1798b"
      },
      "execution_count": 77,
      "outputs": [
        {
          "output_type": "stream",
          "name": "stdout",
          "text": [
            "313/313 [==============================] - 2s 5ms/step - loss: 0.5101 - accuracy: 0.8552\n",
            "Pérdida en el conjunto de prueba: 51.012\n",
            "Precisión en el conjunto de prueba: 85.52%\n"
          ]
        }
      ]
    },
    {
      "cell_type": "code",
      "source": [
        "plt.title('Cross Entropy Loss')\n",
        "plt.plot(history.history['loss'], color='blue', label='train')\n",
        "plt.plot(history.history['val_loss'], color='orange', label='val')\n",
        "plt.legend()\n",
        "plt.show()\n",
        "\n",
        "plt.title('Classification Accuracy')\n",
        "plt.plot(history.history['accuracy'], color='blue', label='train')\n",
        "plt.plot(history.history['val_accuracy'], color='orange', label='val')\n",
        "plt.legend()\n",
        "plt.show()"
      ],
      "metadata": {
        "colab": {
          "base_uri": "https://localhost:8080/",
          "height": 887
        },
        "id": "AiWIgP9ocLNd",
        "outputId": "6e825da2-4e2a-402a-83ac-dedb4fa12830"
      },
      "execution_count": 78,
      "outputs": [
        {
          "output_type": "display_data",
          "data": {
            "text/plain": [
              "<Figure size 640x480 with 1 Axes>"
            ],
            "image/png": "[encoded data removed]"
          },
          "metadata": {}
        },
        {
          "output_type": "display_data",
          "data": {
            "text/plain": [
              "<Figure size 640x480 with 1 Axes>"
            ],
            "image/png": "[encoded data removed]"
          },
          "metadata": {}
        }
      ]
    }
  ]
}